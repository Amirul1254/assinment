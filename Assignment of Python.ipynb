{
 "cells": [
  {
   "cell_type": "markdown",
   "id": "5d5bdb9f-4d29-4382-97a6-61ada834de12",
   "metadata": {},
   "source": [
    "1)for loop example"
   ]
  },
  {
   "cell_type": "code",
   "execution_count": 15,
   "id": "b663c93a-2682-4622-8b4e-cb6e1de14c8d",
   "metadata": {},
   "outputs": [],
   "source": [
    "l = [\"mango\",\"fruit\",\"teacher\",\"sir\"]"
   ]
  },
  {
   "cell_type": "code",
   "execution_count": 16,
   "id": "1c1baff6-103d-4e8c-a4f5-466154f67c48",
   "metadata": {},
   "outputs": [
    {
     "data": {
      "text/plain": [
       "['mango', 'fruit', 'teacher', 'sir']"
      ]
     },
     "execution_count": 16,
     "metadata": {},
     "output_type": "execute_result"
    }
   ],
   "source": [
    "l"
   ]
  },
  {
   "cell_type": "code",
   "execution_count": 8,
   "id": "cabac541-163c-4878-8e70-53d5fba5ff1f",
   "metadata": {},
   "outputs": [
    {
     "name": "stdout",
     "output_type": "stream",
     "text": [
      "mango\n",
      "fruit\n",
      "sir\n",
      " this is my first assignment\n"
     ]
    }
   ],
   "source": [
    "for i in l:\n",
    "    if i == \"teacher\":\n",
    "        continue\n",
    "    print(i)    \n",
    "else:\n",
    "     print(\" this is my first assignment\")\n",
    "            \n",
    "       \n",
    "    "
   ]
  },
  {
   "cell_type": "markdown",
   "id": "dffbcf57-ec46-487d-8efe-338e19e5640e",
   "metadata": {},
   "source": [
    "while loop example"
   ]
  },
  {
   "cell_type": "code",
   "execution_count": 4,
   "id": "323de8cf-c61e-4bcf-a3a3-707c673d1b64",
   "metadata": {},
   "outputs": [
    {
     "name": "stdout",
     "output_type": "stream",
     "text": [
      "10\n",
      "11\n",
      "12\n",
      "13\n",
      "14\n",
      "15\n",
      "16\n",
      "17\n",
      "18\n",
      "19\n",
      "20\n"
     ]
    }
   ],
   "source": [
    "b= 10\n",
    "\n",
    "while b<=20:\n",
    "    print(b)\n",
    "    b = b+1"
   ]
  },
  {
   "cell_type": "markdown",
   "id": "d7575b2b-ee47-4f6b-93fa-5d772fbe798b",
   "metadata": {},
   "source": [
    "2)sum and product using for and while loop"
   ]
  },
  {
   "cell_type": "markdown",
   "id": "35456efb-0e52-4e52-8515-b0ec3fff0c8e",
   "metadata": {},
   "source": [
    "for loop"
   ]
  },
  {
   "cell_type": "code",
   "execution_count": 17,
   "id": "a0905ba1-6145-4cb7-a651-0905bb99e8e2",
   "metadata": {},
   "outputs": [],
   "source": [
    "c = [1,2,3,4,5,6,7,8,9,10]"
   ]
  },
  {
   "cell_type": "code",
   "execution_count": 18,
   "id": "32ed6309-78e0-4303-95bb-8b2b176d2071",
   "metadata": {},
   "outputs": [
    {
     "data": {
      "text/plain": [
       "[1, 2, 3, 4, 5, 6, 7, 8, 9, 10]"
      ]
     },
     "execution_count": 18,
     "metadata": {},
     "output_type": "execute_result"
    }
   ],
   "source": [
    "c"
   ]
  },
  {
   "cell_type": "code",
   "execution_count": 13,
   "id": "c8cf6ee7-4bee-42df-b91e-e98e662979fa",
   "metadata": {},
   "outputs": [
    {
     "data": {
      "text/plain": [
       "55"
      ]
     },
     "execution_count": 13,
     "metadata": {},
     "output_type": "execute_result"
    }
   ],
   "source": [
    "result =0\n",
    "for i in c:\n",
    "    result = result + i\n",
    "result   "
   ]
  },
  {
   "cell_type": "code",
   "execution_count": 15,
   "id": "76ff48de-56df-47f6-b27e-7097f63b8eb0",
   "metadata": {},
   "outputs": [
    {
     "data": {
      "text/plain": [
       "3628800"
      ]
     },
     "execution_count": 15,
     "metadata": {},
     "output_type": "execute_result"
    }
   ],
   "source": [
    "result = 1\n",
    "for i in c:\n",
    "    result = result * i\n",
    "result    "
   ]
  },
  {
   "cell_type": "markdown",
   "id": "279e7f81-c4db-4c0d-8d4e-21d9702776b6",
   "metadata": {},
   "source": [
    "while loop"
   ]
  },
  {
   "cell_type": "code",
   "execution_count": 6,
   "id": "637413e7-26ab-4729-af09-fef6897089af",
   "metadata": {},
   "outputs": [
    {
     "data": {
      "text/plain": [
       "55"
      ]
     },
     "execution_count": 6,
     "metadata": {},
     "output_type": "execute_result"
    }
   ],
   "source": [
    "n =10\n",
    "starting_point = 0\n",
    "counter = 1\n",
    "while counter<=n:\n",
    "    starting_point =starting_point + counter\n",
    "    counter = counter + 1\n",
    "starting_point    \n"
   ]
  },
  {
   "cell_type": "code",
   "execution_count": 7,
   "id": "d0903218-36aa-4dcc-b9c3-de65f95919ed",
   "metadata": {},
   "outputs": [
    {
     "data": {
      "text/plain": [
       "3628800"
      ]
     },
     "execution_count": 7,
     "metadata": {},
     "output_type": "execute_result"
    }
   ],
   "source": [
    "v = 10\n",
    "factorial = 1\n",
    "while v>0:\n",
    "    factorial = factorial * v\n",
    "    v = v -1\n",
    "factorial    "
   ]
  },
  {
   "cell_type": "code",
   "execution_count": 13,
   "id": "a2ec2fc4-baf5-44d8-8ba1-6180f8ca5112",
   "metadata": {},
   "outputs": [
    {
     "name": "stdout",
     "output_type": "stream",
     "text": [
      "6200\n"
     ]
    }
   ],
   "source": [
    "units = 310\n",
    "if units> 300:\n",
    "    print(units*20)\n",
    "elif units>=200 and units<300:\n",
    "    print(units*10)\n",
    "elif units>=100 and units<200:\n",
    "    print(units *6)\n",
    "else:\n",
    "    print(units * 4.5)\n",
    "    \n",
    "\n"
   ]
  },
  {
   "cell_type": "code",
   "execution_count": 14,
   "id": "5ffb47f8-b850-4c57-887b-01cfc728d263",
   "metadata": {},
   "outputs": [
    {
     "data": {
      "text/plain": [
       "\"sir i know how it comes 2250, but i couldn't find out the way plz help me\""
      ]
     },
     "execution_count": 14,
     "metadata": {},
     "output_type": "execute_result"
    }
   ],
   "source": [
    "\"\"\"sir i know how it comes 2250, but i couldn't find out the way plz help me\"\"\""
   ]
  },
  {
   "cell_type": "code",
   "execution_count": 22,
   "id": "e3a97704-c286-4fac-876e-f3c74a94e464",
   "metadata": {},
   "outputs": [],
   "source": [
    "a=list(range(101))"
   ]
  },
  {
   "cell_type": "code",
   "execution_count": 23,
   "id": "084fb786-1e71-4bd1-b15a-860164699cd2",
   "metadata": {},
   "outputs": [
    {
     "data": {
      "text/plain": [
       "[0,\n",
       " 1,\n",
       " 2,\n",
       " 3,\n",
       " 4,\n",
       " 5,\n",
       " 6,\n",
       " 7,\n",
       " 8,\n",
       " 9,\n",
       " 10,\n",
       " 11,\n",
       " 12,\n",
       " 13,\n",
       " 14,\n",
       " 15,\n",
       " 16,\n",
       " 17,\n",
       " 18,\n",
       " 19,\n",
       " 20,\n",
       " 21,\n",
       " 22,\n",
       " 23,\n",
       " 24,\n",
       " 25,\n",
       " 26,\n",
       " 27,\n",
       " 28,\n",
       " 29,\n",
       " 30,\n",
       " 31,\n",
       " 32,\n",
       " 33,\n",
       " 34,\n",
       " 35,\n",
       " 36,\n",
       " 37,\n",
       " 38,\n",
       " 39,\n",
       " 40,\n",
       " 41,\n",
       " 42,\n",
       " 43,\n",
       " 44,\n",
       " 45,\n",
       " 46,\n",
       " 47,\n",
       " 48,\n",
       " 49,\n",
       " 50,\n",
       " 51,\n",
       " 52,\n",
       " 53,\n",
       " 54,\n",
       " 55,\n",
       " 56,\n",
       " 57,\n",
       " 58,\n",
       " 59,\n",
       " 60,\n",
       " 61,\n",
       " 62,\n",
       " 63,\n",
       " 64,\n",
       " 65,\n",
       " 66,\n",
       " 67,\n",
       " 68,\n",
       " 69,\n",
       " 70,\n",
       " 71,\n",
       " 72,\n",
       " 73,\n",
       " 74,\n",
       " 75,\n",
       " 76,\n",
       " 77,\n",
       " 78,\n",
       " 79,\n",
       " 80,\n",
       " 81,\n",
       " 82,\n",
       " 83,\n",
       " 84,\n",
       " 85,\n",
       " 86,\n",
       " 87,\n",
       " 88,\n",
       " 89,\n",
       " 90,\n",
       " 91,\n",
       " 92,\n",
       " 93,\n",
       " 94,\n",
       " 95,\n",
       " 96,\n",
       " 97,\n",
       " 98,\n",
       " 99,\n",
       " 100]"
      ]
     },
     "execution_count": 23,
     "metadata": {},
     "output_type": "execute_result"
    }
   ],
   "source": [
    "a"
   ]
  },
  {
   "cell_type": "code",
   "execution_count": 47,
   "id": "d4ef5db2-9eaf-45c9-bf74-9efdbc67b78f",
   "metadata": {},
   "outputs": [],
   "source": [
    "def test(a):\n",
    "    b = []\n",
    "    for i in a:\n",
    "        b.append(i**4)\n",
    "    return b    \n",
    "        \n",
    "        \n",
    "    \n",
    "    \n"
   ]
  },
  {
   "cell_type": "code",
   "execution_count": 48,
   "id": "1c7b2c1a-3992-47f3-89b9-d348eea31663",
   "metadata": {},
   "outputs": [
    {
     "data": {
      "text/plain": [
       "[0,\n",
       " 1,\n",
       " 16,\n",
       " 81,\n",
       " 256,\n",
       " 625,\n",
       " 1296,\n",
       " 2401,\n",
       " 4096,\n",
       " 6561,\n",
       " 10000,\n",
       " 14641,\n",
       " 20736,\n",
       " 28561,\n",
       " 38416,\n",
       " 50625,\n",
       " 65536,\n",
       " 83521,\n",
       " 104976,\n",
       " 130321,\n",
       " 160000,\n",
       " 194481,\n",
       " 234256,\n",
       " 279841,\n",
       " 331776,\n",
       " 390625,\n",
       " 456976,\n",
       " 531441,\n",
       " 614656,\n",
       " 707281,\n",
       " 810000,\n",
       " 923521,\n",
       " 1048576,\n",
       " 1185921,\n",
       " 1336336,\n",
       " 1500625,\n",
       " 1679616,\n",
       " 1874161,\n",
       " 2085136,\n",
       " 2313441,\n",
       " 2560000,\n",
       " 2825761,\n",
       " 3111696,\n",
       " 3418801,\n",
       " 3748096,\n",
       " 4100625,\n",
       " 4477456,\n",
       " 4879681,\n",
       " 5308416,\n",
       " 5764801,\n",
       " 6250000,\n",
       " 6765201,\n",
       " 7311616,\n",
       " 7890481,\n",
       " 8503056,\n",
       " 9150625,\n",
       " 9834496,\n",
       " 10556001,\n",
       " 11316496,\n",
       " 12117361,\n",
       " 12960000,\n",
       " 13845841,\n",
       " 14776336,\n",
       " 15752961,\n",
       " 16777216,\n",
       " 17850625,\n",
       " 18974736,\n",
       " 20151121,\n",
       " 21381376,\n",
       " 22667121,\n",
       " 24010000,\n",
       " 25411681,\n",
       " 26873856,\n",
       " 28398241,\n",
       " 29986576,\n",
       " 31640625,\n",
       " 33362176,\n",
       " 35153041,\n",
       " 37015056,\n",
       " 38950081,\n",
       " 40960000,\n",
       " 43046721,\n",
       " 45212176,\n",
       " 47458321,\n",
       " 49787136,\n",
       " 52200625,\n",
       " 54700816,\n",
       " 57289761,\n",
       " 59969536,\n",
       " 62742241,\n",
       " 65610000,\n",
       " 68574961,\n",
       " 71639296,\n",
       " 74805201,\n",
       " 78074896,\n",
       " 81450625,\n",
       " 84934656,\n",
       " 88529281,\n",
       " 92236816,\n",
       " 96059601,\n",
       " 100000000]"
      ]
     },
     "execution_count": 48,
     "metadata": {},
     "output_type": "execute_result"
    }
   ],
   "source": [
    "test(a)\n",
    "    \n",
    "    "
   ]
  },
  {
   "cell_type": "code",
   "execution_count": 38,
   "id": "66119565-4584-4f2c-b312-ddd1d1bcc595",
   "metadata": {},
   "outputs": [],
   "source": [
    "c= list(range(101))"
   ]
  },
  {
   "cell_type": "code",
   "execution_count": 39,
   "id": "44d7c1c2-8a4d-4c4f-a0fb-2f99293b5c8b",
   "metadata": {},
   "outputs": [
    {
     "data": {
      "text/plain": [
       "[0,\n",
       " 1,\n",
       " 2,\n",
       " 3,\n",
       " 4,\n",
       " 5,\n",
       " 6,\n",
       " 7,\n",
       " 8,\n",
       " 9,\n",
       " 10,\n",
       " 11,\n",
       " 12,\n",
       " 13,\n",
       " 14,\n",
       " 15,\n",
       " 16,\n",
       " 17,\n",
       " 18,\n",
       " 19,\n",
       " 20,\n",
       " 21,\n",
       " 22,\n",
       " 23,\n",
       " 24,\n",
       " 25,\n",
       " 26,\n",
       " 27,\n",
       " 28,\n",
       " 29,\n",
       " 30,\n",
       " 31,\n",
       " 32,\n",
       " 33,\n",
       " 34,\n",
       " 35,\n",
       " 36,\n",
       " 37,\n",
       " 38,\n",
       " 39,\n",
       " 40,\n",
       " 41,\n",
       " 42,\n",
       " 43,\n",
       " 44,\n",
       " 45,\n",
       " 46,\n",
       " 47,\n",
       " 48,\n",
       " 49,\n",
       " 50,\n",
       " 51,\n",
       " 52,\n",
       " 53,\n",
       " 54,\n",
       " 55,\n",
       " 56,\n",
       " 57,\n",
       " 58,\n",
       " 59,\n",
       " 60,\n",
       " 61,\n",
       " 62,\n",
       " 63,\n",
       " 64,\n",
       " 65,\n",
       " 66,\n",
       " 67,\n",
       " 68,\n",
       " 69,\n",
       " 70,\n",
       " 71,\n",
       " 72,\n",
       " 73,\n",
       " 74,\n",
       " 75,\n",
       " 76,\n",
       " 77,\n",
       " 78,\n",
       " 79,\n",
       " 80,\n",
       " 81,\n",
       " 82,\n",
       " 83,\n",
       " 84,\n",
       " 85,\n",
       " 86,\n",
       " 87,\n",
       " 88,\n",
       " 89,\n",
       " 90,\n",
       " 91,\n",
       " 92,\n",
       " 93,\n",
       " 94,\n",
       " 95,\n",
       " 96,\n",
       " 97,\n",
       " 98,\n",
       " 99,\n",
       " 100]"
      ]
     },
     "execution_count": 39,
     "metadata": {},
     "output_type": "execute_result"
    }
   ],
   "source": [
    "c"
   ]
  },
  {
   "cell_type": "code",
   "execution_count": 44,
   "id": "069a8044-131a-4cf7-a7b5-4e627fb72bac",
   "metadata": {},
   "outputs": [],
   "source": [
    "##sir i can't find out how to calculate by using while loop help me"
   ]
  },
  {
   "cell_type": "code",
   "execution_count": 43,
   "id": "aac3414e-9245-4d12-950c-b799d55f1dc9",
   "metadata": {},
   "outputs": [
    {
     "ename": "TypeError",
     "evalue": "'>' not supported between instances of 'list' and 'int'",
     "output_type": "error",
     "traceback": [
      "\u001b[0;31m---------------------------------------------------------------------------\u001b[0m",
      "\u001b[0;31mTypeError\u001b[0m                                 Traceback (most recent call last)",
      "Cell \u001b[0;32mIn[43], line 1\u001b[0m\n\u001b[0;32m----> 1\u001b[0m \u001b[43mtest\u001b[49m\u001b[43m(\u001b[49m\u001b[43mc\u001b[49m\u001b[43m)\u001b[49m\n",
      "Cell \u001b[0;32mIn[42], line 3\u001b[0m, in \u001b[0;36mtest\u001b[0;34m(c)\u001b[0m\n\u001b[1;32m      1\u001b[0m \u001b[38;5;28;01mdef\u001b[39;00m \u001b[38;5;21mtest\u001b[39m(c):\n\u001b[1;32m      2\u001b[0m     c1\u001b[38;5;241m=\u001b[39m[]\n\u001b[0;32m----> 3\u001b[0m     \u001b[38;5;28;01mwhile\u001b[39;00m \u001b[43mc\u001b[49m\u001b[38;5;241;43m>\u001b[39;49m\u001b[38;5;241;43m101\u001b[39;49m:\n\u001b[1;32m      4\u001b[0m         c1\u001b[38;5;241m.\u001b[39mappend(c\u001b[38;5;241m*\u001b[39m\u001b[38;5;241m*\u001b[39m\u001b[38;5;241m2\u001b[39m)\n\u001b[1;32m      5\u001b[0m     \u001b[38;5;28;01mreturn\u001b[39;00m c1\n",
      "\u001b[0;31mTypeError\u001b[0m: '>' not supported between instances of 'list' and 'int'"
     ]
    }
   ],
   "source": []
  },
  {
   "cell_type": "code",
   "execution_count": 46,
   "id": "873a8f9a-2a4c-4405-b209-54e6fcb49aaa",
   "metadata": {},
   "outputs": [],
   "source": [
    "##Q5) i can't"
   ]
  },
  {
   "cell_type": "code",
   "execution_count": null,
   "id": "ccc23db0-2e20-40d2-b06e-05e48fd7916c",
   "metadata": {},
   "outputs": [],
   "source": []
  }
 ],
 "metadata": {
  "kernelspec": {
   "display_name": "Python 3 (ipykernel)",
   "language": "python",
   "name": "python3"
  },
  "language_info": {
   "codemirror_mode": {
    "name": "ipython",
    "version": 3
   },
   "file_extension": ".py",
   "mimetype": "text/x-python",
   "name": "python",
   "nbconvert_exporter": "python",
   "pygments_lexer": "ipython3",
   "version": "3.10.8"
  }
 },
 "nbformat": 4,
 "nbformat_minor": 5
}
